{
  "nbformat": 4,
  "nbformat_minor": 0,
  "metadata": {
    "colab": {
      "name": "demo.ipynb",
      "provenance": [],
      "collapsed_sections": [],
      "include_colab_link": true
    },
    "kernelspec": {
      "name": "python3",
      "display_name": "Python 3"
    }
  },
  "cells": [
    {
      "cell_type": "markdown",
      "metadata": {
        "id": "view-in-github",
        "colab_type": "text"
      },
      "source": [
        "<a href=\"https://colab.research.google.com/github/Megaman5455/Demo_colab_github/blob/master/demo.ipynb\" target=\"_parent\"><img src=\"https://colab.research.google.com/assets/colab-badge.svg\" alt=\"Open In Colab\"/></a>"
      ]
    },
    {
      "cell_type": "markdown",
      "metadata": {
        "id": "g9uo1n6Wr5IO"
      },
      "source": [
        "```\n",
        "Trong mô hình IBM 1, trật tự từ được bỏ qua để làm đơn giản mô hình. Chỉ cần các phép gióng từ là tương đương,\n",
        "không quan trọng vị trí của từ đó ở đâu trong câu nguồn hoặc câu kết quả.\n",
        "Cho nên 3 phép gióng hàng sau là tương tự nhau:\n",
        "\n",
        "Câu nguồn: je mange du jambon\n",
        "Câu kết quả: i eat some ham\n",
        "Phép gióng hàng: (0,0) (1,1) (2,2) (3,3)\n",
        "\n",
        "Câu nguồn: je mange du jambon\n",
        "Câu kết quả: some ham eat i\n",
        "Phép gióng hàng: (0,2) (1,3) (2,1) (3,1)\n",
        "\n",
        "Câu nguồn: du jambon je mange\n",
        "Câu kết quả: eat i some ham\n",
        "Phép gióng hàng: (0,3) (1,2) (2,0) (3,1)\n",
        "```"
      ]
    }
  ]
}